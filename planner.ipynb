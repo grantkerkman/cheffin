{
 "cells": [
  {
   "cell_type": "code",
   "execution_count": 3,
   "metadata": {},
   "outputs": [],
   "source": [
    "from sqlalchemy import create_engine\n",
    "from sqlalchemy.orm import sessionmaker\n",
    "import sqlalchemy_classes as alchemy"
   ]
  },
  {
   "cell_type": "code",
   "execution_count": 10,
   "metadata": {},
   "outputs": [
    {
     "name": "stdout",
     "output_type": "stream",
     "text": [
      "Wild Rice and Mushroom Chile Pilaf\n",
      "Bourbon Maple Roasted Butternut Squash 🍁\n",
      "Pinto Bean and Green Chile Soup 🍲\n",
      "Spicy Brined Turkey 🔥🐦🍁\n",
      "Southwestern Pepper Sauce\n",
      "Chipotle Cacao Sauce\n"
     ]
    }
   ],
   "source": [
    "# Import the Meal model\n",
    "from sqlalchemy_classes import Meal \n",
    "\n",
    "# Create the engine and Session objects\n",
    "engine = create_engine(alchemy.DATABASE_URL)\n",
    "Session = sessionmaker(bind=engine)\n",
    "\n",
    "# Open a session\n",
    "session = Session()\n",
    "try:\n",
    "    # Fetch all recipes\n",
    "    meals = session.query(Meal).all()\n",
    "    for meal in meals:\n",
    "        print(meal.recipe_name)\n",
    "finally:\n",
    "    session.close()"
   ]
  },
  {
   "cell_type": "code",
   "execution_count": 7,
   "metadata": {},
   "outputs": [
    {
     "data": {
      "text/markdown": [
       "\n",
       "## Preparation\n",
       "1. **Wash** the wild rice in a separate bowl and drain.\n",
       "2. **Cook** the rice according to packaging. If using a rice cooker, use the brown rice setting and a 2:1 water-to-grain ratio. Add 1 tsp of salt.\n",
       "3. Wild rice takes a long time to cook and should finish in about **60 minutes** in a rice cooker.\n",
       "\n",
       "## Cooking\n",
       "1. **Heat** a large stainless steel pan on medium heat.\n",
       "2. **Trim and quarter** the oyster mushrooms. Add them to the pan and sweat for **5–7 minutes**. Do not add fat until they begin to sweat and lose moisture.\n",
       "3. **Make space** in the center of the pan. Add the **avocado oil** and **roasted pumpkin**. Toast for **2–3 minutes** until fragrant.\n",
       "4. **Dice** the jalapeño, remove seeds and stem, and add to the pan. Stir and cook for **2–3 minutes**.\n",
       "5. Add the **sage** and cooked **wild rice**. Add salt to taste. Stir and cook for an additional **2–3 minutes**.\n",
       "6. Remove from heat and **add sunflower seeds**. Serve immediately.\n"
      ],
      "text/plain": [
       "<IPython.core.display.Markdown object>"
      ]
     },
     "metadata": {},
     "output_type": "display_data"
    }
   ],
   "source": [
    "from IPython.display import display, Markdown\n",
    "\n",
    "meal = session.query(Meal).first()\n",
    "display(Markdown(meal.instructions))"
   ]
  }
 ],
 "metadata": {
  "kernelspec": {
   "display_name": "dev",
   "language": "python",
   "name": "python3"
  },
  "language_info": {
   "codemirror_mode": {
    "name": "ipython",
    "version": 3
   },
   "file_extension": ".py",
   "mimetype": "text/x-python",
   "name": "python",
   "nbconvert_exporter": "python",
   "pygments_lexer": "ipython3",
   "version": "3.11.11"
  }
 },
 "nbformat": 4,
 "nbformat_minor": 2
}
