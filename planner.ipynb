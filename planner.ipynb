{
 "cells": [
  {
   "cell_type": "code",
   "execution_count": 10,
   "metadata": {},
   "outputs": [],
   "source": [
    "from sqlalchemy import create_engine\n",
    "from sqlalchemy.orm import sessionmaker\n",
    "import sqlalchemy_classes as alchemy"
   ]
  },
  {
   "cell_type": "code",
   "execution_count": 11,
   "metadata": {},
   "outputs": [
    {
     "name": "stdout",
     "output_type": "stream",
     "text": [
      "Test Recipce\n",
      "Wild Rice and Mushroom Chile Pilaf\n",
      "Bourbon Maple Roasted Butternut Squash\n",
      "Pinto Bean and Green Chile Soup\n",
      "Spicey Brined Turkey\n",
      "Southwestern Pepper Sauce\n",
      "Chipotle Cacao Sauce\n"
     ]
    }
   ],
   "source": [
    "# Import the Meal model\n",
    "from sqlalchemy_classes import Meal \n",
    "\n",
    "# Create the engine and Session objects\n",
    "engine = create_engine(alchemy.DATABASE_URL)\n",
    "Session = sessionmaker(bind=engine)\n",
    "\n",
    "# Open a session\n",
    "session = Session()\n",
    "try:\n",
    "    # Fetch all recipes\n",
    "    meals = session.query(Meal).all()\n",
    "    for meal in meals:\n",
    "        print(meal.recipe_name)\n",
    "finally:\n",
    "    session.close()"
   ]
  },
  {
   "cell_type": "code",
   "execution_count": 3,
   "metadata": {},
   "outputs": [
    {
     "name": "stdout",
     "output_type": "stream",
     "text": [
      "yes {'yes': '1 cup'}\n"
     ]
    }
   ],
   "source": [
    "# Import the Recipe model\n",
    "from sqlalchemy_classes import Recipe  \n",
    "\n",
    "# Create the engine and Session objects\n",
    "engine = create_engine(alchemy.DATABASE_URL)\n",
    "Session = sessionmaker(bind=engine)\n",
    "\n",
    "# Open a session\n",
    "session = Session()\n",
    "try:\n",
    "    # Fetch all recipes\n",
    "    recipes = session.query(Recipe).all()\n",
    "    for recipe in recipes:\n",
    "        print(recipe.recipe_name, recipe.ingredients)\n",
    "finally:\n",
    "    session.close()\n"
   ]
  },
  {
   "cell_type": "code",
   "execution_count": null,
   "metadata": {},
   "outputs": [],
   "source": []
  }
 ],
 "metadata": {
  "kernelspec": {
   "display_name": "dev",
   "language": "python",
   "name": "python3"
  },
  "language_info": {
   "codemirror_mode": {
    "name": "ipython",
    "version": 3
   },
   "file_extension": ".py",
   "mimetype": "text/x-python",
   "name": "python",
   "nbconvert_exporter": "python",
   "pygments_lexer": "ipython3",
   "version": "3.11.11"
  }
 },
 "nbformat": 4,
 "nbformat_minor": 2
}
