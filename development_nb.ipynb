{
 "cells": [
  {
   "cell_type": "code",
   "execution_count": 6,
   "metadata": {},
   "outputs": [],
   "source": [
    "from sqlalchemy import create_engine, Column, String, Integer, Float, Boolean, Text, TIMESTAMP\n",
    "from sqlalchemy.dialects.sqlite import JSON\n",
    "from sqlalchemy.orm import declarative_base, sessionmaker"
   ]
  },
  {
   "cell_type": "markdown",
   "metadata": {},
   "source": [
    "# Database Creation"
   ]
  },
  {
   "cell_type": "code",
   "execution_count": 5,
   "metadata": {},
   "outputs": [
    {
     "name": "stdout",
     "output_type": "stream",
     "text": [
      "Database and tables created successfully!\n"
     ]
    }
   ],
   "source": [
    "# Create the Base\n",
    "Base = declarative_base()\n",
    "\n",
    "# Meals Table\n",
    "class Meal(Base):\n",
    "    __tablename__ = \"meals\"\n",
    "\n",
    "    recipe_name = Column(String, primary_key=True)\n",
    "    recipe_description = Column(Text)\n",
    "    date_added = Column(TIMESTAMP)\n",
    "    primary_protein = Column(String)\n",
    "    category = Column(String)\n",
    "    vegetarian = Column(Boolean)\n",
    "\n",
    "# Recipes Table\n",
    "class Recipe(Base):\n",
    "    __tablename__ = \"recipes\"\n",
    "\n",
    "    recipe_name = Column(String, primary_key=True)\n",
    "    ingredients = Column(JSON)\n",
    "    instructions = Column(Text)\n",
    "    portions = Column(Integer)\n",
    "\n",
    "# Nutrition Table\n",
    "class Nutrition(Base):\n",
    "    __tablename__ = \"nutrition\"\n",
    "\n",
    "    item = Column(String, primary_key=True)\n",
    "    amount = Column(Float)\n",
    "    units = Column(String)\n",
    "    unit_type = Column(String)\n",
    "    calories = Column(Float)\n",
    "    fat = Column(Float)\n",
    "    protein = Column(Float)\n",
    "    carbs = Column(Float)\n",
    "    fiber = Column(Float)\n",
    "\n",
    "# Create DuckDB Database\n",
    "DATABASE_URL = \"sqlite:///cheffin.db\"\n",
    "\n",
    "engine = create_engine(DATABASE_URL)\n",
    "Session = sessionmaker(bind=engine)\n",
    "session = Session()\n",
    "\n",
    "# Create all tables\n",
    "Base.metadata.create_all(engine)\n",
    "print(\"Database and tables created successfully!\")\n"
   ]
  },
  {
   "cell_type": "markdown",
   "metadata": {},
   "source": [
    "# Adding Recipes"
   ]
  },
  {
   "cell_type": "code",
   "execution_count": null,
   "metadata": {},
   "outputs": [],
   "source": [
    "# Insert a meal\n",
    "new_meal = Meal(\n",
    "    recipe_name=\"Grilled Salmon\",\n",
    "    recipe_description=\"A simple grilled salmon dish with lemon and herbs.\",\n",
    "    primary_protein=\"Salmon\",\n",
    "    category=\"Seafood\",\n",
    "    vegetarian=False\n",
    ")\n",
    "\n",
    "# Insert a recipe\n",
    "new_recipe = Recipe(\n",
    "    recipe_name=\"Grilled Salmon\",\n",
    "    ingredients={\n",
    "        \"salmon\": \"200g\",\n",
    "        \"lemon\": \"1 slice\",\n",
    "        \"olive oil\": \"1 tbsp\",\n",
    "        \"salt\": \"to taste\"\n",
    "    },\n",
    "    instructions=\"Brush salmon with olive oil and season with salt. Grill for 10 minutes. Serve with lemon.\",\n",
    "    portions=2\n",
    ")\n",
    "\n",
    "# Insert a nutrition entry\n",
    "new_nutrition = Nutrition(\n",
    "    item=\"Salmon\",\n",
    "    amount=200,\n",
    "    units=\"grams\",\n",
    "    unit_type=\"protein\",\n",
    "    calories=208,\n",
    "    fat=13,\n",
    "    protein=22,\n",
    "    carbs=0,\n",
    "    fiber=0\n",
    ")\n",
    "\n",
    "# Add and commit to the database\n",
    "session.add_all([new_meal, new_recipe, new_nutrition])\n",
    "session.commit()\n",
    "print(\"Sample data inserted successfully!\")\n"
   ]
  }
 ],
 "metadata": {
  "kernelspec": {
   "display_name": "dev",
   "language": "python",
   "name": "python3"
  },
  "language_info": {
   "codemirror_mode": {
    "name": "ipython",
    "version": 3
   },
   "file_extension": ".py",
   "mimetype": "text/x-python",
   "name": "python",
   "nbconvert_exporter": "python",
   "pygments_lexer": "ipython3",
   "version": "3.11.11"
  }
 },
 "nbformat": 4,
 "nbformat_minor": 2
}
