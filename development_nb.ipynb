{
 "cells": [
  {
   "cell_type": "code",
   "execution_count": 6,
   "metadata": {},
   "outputs": [],
   "source": [
    "from sqlalchemy import create_engine, Column, String, Integer, Float, Boolean, Text, TIMESTAMP\n",
    "from sqlalchemy.dialects.sqlite import JSON\n",
    "from sqlalchemy.orm import declarative_base, sessionmaker"
   ]
  },
  {
   "cell_type": "markdown",
   "metadata": {},
   "source": [
    "# Database Creation"
   ]
  },
  {
   "cell_type": "code",
   "execution_count": 5,
   "metadata": {},
   "outputs": [
    {
     "name": "stdout",
     "output_type": "stream",
     "text": [
      "Database and tables created successfully!\n"
     ]
    }
   ],
   "source": [
    "# Create the Base\n",
    "Base = declarative_base()\n",
    "\n",
    "# Meals Table\n",
    "class Meal(Base):\n",
    "    __tablename__ = \"meals\"\n",
    "\n",
    "    recipe_name = Column(String, primary_key=True)\n",
    "    recipe_description = Column(Text)\n",
    "    date_added = Column(TIMESTAMP)\n",
    "    primary_protein = Column(String)\n",
    "    category = Column(String)\n",
    "    vegetarian = Column(Boolean)\n",
    "\n",
    "# Recipes Table\n",
    "class Recipe(Base):\n",
    "    __tablename__ = \"recipes\"\n",
    "\n",
    "    recipe_name = Column(String, primary_key=True)\n",
    "    ingredients = Column(JSON)\n",
    "    instructions = Column(Text)\n",
    "    portions = Column(Integer)\n",
    "\n",
    "# Nutrition Table\n",
    "class Nutrition(Base):\n",
    "    __tablename__ = \"nutrition\"\n",
    "\n",
    "    item = Column(String, primary_key=True)\n",
    "    amount = Column(Float)\n",
    "    units = Column(String)\n",
    "    unit_type = Column(String)\n",
    "    calories = Column(Float)\n",
    "    fat = Column(Float)\n",
    "    protein = Column(Float)\n",
    "    carbs = Column(Float)\n",
    "    fiber = Column(Float)\n",
    "\n",
    "# Create DuckDB Database\n",
    "DATABASE_URL = \"sqlite:///cheffin.db\"\n",
    "\n",
    "engine = create_engine(DATABASE_URL)\n",
    "Session = sessionmaker(bind=engine)\n",
    "session = Session()\n",
    "\n",
    "# Create all tables\n",
    "Base.metadata.create_all(engine)\n",
    "print(\"Database and tables created successfully!\")"
   ]
  }
 ],
 "metadata": {
  "kernelspec": {
   "display_name": "dev",
   "language": "python",
   "name": "python3"
  },
  "language_info": {
   "codemirror_mode": {
    "name": "ipython",
    "version": 3
   },
   "file_extension": ".py",
   "mimetype": "text/x-python",
   "name": "python",
   "nbconvert_exporter": "python",
   "pygments_lexer": "ipython3",
   "version": "3.11.11"
  }
 },
 "nbformat": 4,
 "nbformat_minor": 2
}
