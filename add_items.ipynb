{
 "cells": [
  {
   "cell_type": "code",
   "execution_count": 2,
   "metadata": {},
   "outputs": [],
   "source": [
    "from sqlalchemy import create_engine\n",
    "from sqlalchemy.orm import sessionmaker\n",
    "import sqlalchemy_classes as alchemy"
   ]
  },
  {
   "cell_type": "markdown",
   "metadata": {},
   "source": [
    "### Add a Meal"
   ]
  },
  {
   "cell_type": "code",
   "execution_count": null,
   "metadata": {},
   "outputs": [],
   "source": [
    "# Enter in the recipe data and convert to records\n",
    "recipe_name = input(f'Enter Recipe Name: ')\n",
    "recipe_description = input(f'Enter Description: ')\n",
    "primary_protein = input(f'What is the primary protein: ')\n",
    "category = input(f'What is the food category: ')\n",
    "\n",
    "vegetarian = input(f'Vegitarian [y/n]: ').strip().lower()\n",
    "if vegetarian == 'y':\n",
    "    vegetarian = True\n",
    "else:\n",
    "    vegetarian = False"
   ]
  },
  {
   "cell_type": "code",
   "execution_count": 8,
   "metadata": {},
   "outputs": [
    {
     "name": "stdout",
     "output_type": "stream",
     "text": [
      "Meal added successfully!\n"
     ]
    }
   ],
   "source": [
    "# Create the engine and Session objects\n",
    "engine = create_engine(alchemy.DATABASE_URL)\n",
    "Session = sessionmaker(bind=engine)\n",
    "session = Session()\n",
    "\n",
    "# Load the meal\n",
    "meal = alchemy.Meal(\n",
    "    recipe_name = recipe_name,\n",
    "    recipe_description = recipe_description,\n",
    "    primary_protein = primary_protein,\n",
    "    category = category,\n",
    "    vegetarian = vegetarian\n",
    "    region = region\n",
    "    ingredients = ingredients_dict\n",
    "    instructions = instructions_md\n",
    "    portions = portions\n",
    ")\n",
    "\n",
    "# Add Meal to Database and close\n",
    "try:\n",
    "    session.add(meal)\n",
    "    session.commit()\n",
    "    print('Meal added successfully!')\n",
    "\n",
    "except Exception as e:\n",
    "    session.rollback()\n",
    "    print(f\"Error adding meal: {e}\")\n",
    "\n",
    "finally:\n",
    "    session.close()"
   ]
  }
 ],
 "metadata": {
  "kernelspec": {
   "display_name": "dev",
   "language": "python",
   "name": "python3"
  },
  "language_info": {
   "codemirror_mode": {
    "name": "ipython",
    "version": 3
   },
   "file_extension": ".py",
   "mimetype": "text/x-python",
   "name": "python",
   "nbconvert_exporter": "python",
   "pygments_lexer": "ipython3",
   "version": "3.11.11"
  }
 },
 "nbformat": 4,
 "nbformat_minor": 2
}
