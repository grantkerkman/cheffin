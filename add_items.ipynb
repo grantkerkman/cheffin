{
 "cells": [
  {
   "cell_type": "code",
   "execution_count": 1,
   "metadata": {},
   "outputs": [],
   "source": [
    "from sqlalchemy import create_engine\n",
    "from sqlalchemy.orm import sessionmaker\n",
    "import sqlalchemy_classes as alchemy"
   ]
  },
  {
   "cell_type": "markdown",
   "metadata": {},
   "source": [
    "### Add a Meal"
   ]
  },
  {
   "cell_type": "code",
   "execution_count": 13,
   "metadata": {},
   "outputs": [],
   "source": [
    "# Entry 3: Chipotle Cacao Sauce\n",
    "recipe_name = \"Chipotle Cacao Sauce\"\n",
    "recipe_description = \"A deep, smoky sauce with a rich blend of chipotle chiles, pasilla ancho, and cacao.\"\n",
    "category = \"Sauce\"\n",
    "region = \"Americas\"\n",
    "vegetarian = True\n",
    "ingredients = {\n",
    "    \"Dried pasilla ancho chile\": \"9-15\",\n",
    "    \"Dried chipotle chiles\": \"2\",\n",
    "    \"Cacao\": \"2 tbsp\",\n",
    "    \"Avocado oil\": \"3/4 cup\",\n",
    "    \"Water\": \"As needed\",\n",
    "    \"Salt\": \"To taste\"\n",
    "}\n",
    "instructions = \"\"\"\n",
    "## Preparing the Sauce\n",
    "1. **Remove seeds and stems** from dried chiles.\n",
    "2. **Place in a bowl** and submerge with **boiling water**.\n",
    "3. Cover and **let sit for 60 minutes**.\n",
    "4. **Transfer rehydrated peppers** to a food processor.\n",
    "5. Add **avocado oil, cacao, some pepper water, and salt**.\n",
    "6. Blend to desired consistency.\n",
    "7. **Pass through a fine mesh sieve** to remove skins.\n",
    "\"\"\"\n",
    "portions = 8"
   ]
  },
  {
   "cell_type": "code",
   "execution_count": 14,
   "metadata": {},
   "outputs": [
    {
     "name": "stdout",
     "output_type": "stream",
     "text": [
      "Meal added successfully!\n"
     ]
    }
   ],
   "source": [
    "# Create the engine and Session objects\n",
    "engine = create_engine(alchemy.DATABASE_URL)\n",
    "Session = sessionmaker(bind=engine)\n",
    "session = Session()\n",
    "\n",
    "# Load the meal\n",
    "meal = alchemy.Meal(\n",
    "    recipe_name = recipe_name,\n",
    "    recipe_description = recipe_description,\n",
    "    category = category,\n",
    "    vegetarian = vegetarian,\n",
    "    region = region,\n",
    "    ingredients = ingredients,\n",
    "    instructions = instructions,\n",
    "    portions = portions\n",
    ")\n",
    "\n",
    "# Add Meal to Database and close\n",
    "try:\n",
    "    session.add(meal)\n",
    "    session.commit()\n",
    "    print('Meal added successfully!')\n",
    "\n",
    "except Exception as e:\n",
    "    session.rollback()\n",
    "    print(f\"Error adding meal: {e}\")\n",
    "\n",
    "finally:\n",
    "    session.close()"
   ]
  },
  {
   "cell_type": "code",
   "execution_count": null,
   "metadata": {},
   "outputs": [],
   "source": []
  }
 ],
 "metadata": {
  "kernelspec": {
   "display_name": "dev",
   "language": "python",
   "name": "python3"
  },
  "language_info": {
   "codemirror_mode": {
    "name": "ipython",
    "version": 3
   },
   "file_extension": ".py",
   "mimetype": "text/x-python",
   "name": "python",
   "nbconvert_exporter": "python",
   "pygments_lexer": "ipython3",
   "version": "3.11.11"
  }
 },
 "nbformat": 4,
 "nbformat_minor": 2
}
