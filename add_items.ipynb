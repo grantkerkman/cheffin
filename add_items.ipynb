{
 "cells": [
  {
   "cell_type": "code",
   "execution_count": 1,
   "metadata": {},
   "outputs": [],
   "source": [
    "from sqlalchemy import create_engine\n",
    "from sqlalchemy.orm import sessionmaker\n",
    "import sqlalchemy_classes as alchemy"
   ]
  },
  {
   "cell_type": "markdown",
   "metadata": {},
   "source": [
    "### Add a Meal"
   ]
  },
  {
   "cell_type": "code",
   "execution_count": 8,
   "metadata": {},
   "outputs": [
    {
     "name": "stdout",
     "output_type": "stream",
     "text": [
      "Meal added successfully!\n"
     ]
    }
   ],
   "source": [
    "# Create the engine and Session objects\n",
    "engine = create_engine(alchemy.DATABASE_URL)\n",
    "Session = sessionmaker(bind=engine)\n",
    "session = Session()\n",
    "\n",
    "# Enter in the recipe data and convert to records\n",
    "recipe_name = input(f'Enter Recipe Name: ')\n",
    "recipe_description = input(f'Enter Description: ')\n",
    "primary_protein = input(f'What is the primary protein: ')\n",
    "category = input(f'What is the food category: ')\n",
    "\n",
    "vegetarian = input(f'Vegitarian [y/n]: ').strip().lower()\n",
    "if vegetarian == 'y':\n",
    "    vegetarian = True\n",
    "else:\n",
    "    vegetarian = False\n",
    "\n",
    "meal = alchemy.Meal(\n",
    "    recipe_name = recipe_name,\n",
    "    recipe_description = recipe_description,\n",
    "    primary_protein = primary_protein,\n",
    "    category = category,\n",
    "    vegetarian = vegetarian\n",
    ")\n",
    "\n",
    "# Add Meal to Database and close\n",
    "session = Session()\n",
    "\n",
    "try:\n",
    "    session.add(meal)\n",
    "    session.commit()\n",
    "    print('Meal added successfully!')\n",
    "\n",
    "except Exception as e:\n",
    "    session.rollback()\n",
    "    print(f\"Error adding meal: {e}\")\n",
    "\n",
    "finally:\n",
    "    session.close()"
   ]
  },
  {
   "cell_type": "markdown",
   "metadata": {},
   "source": [
    "### Add a Recipe to a Meal"
   ]
  },
  {
   "cell_type": "code",
   "execution_count": null,
   "metadata": {},
   "outputs": [],
   "source": [
    "# Create the engine and Session objects\n",
    "engine = create_engine(alchemy.DATABASE_URL)\n",
    "Session = sessionmaker(bind=engine)\n",
    "session = Session()\n",
    "\n",
    "# Enter in the recipe data and convert to records\n",
    "recipe_name = input(f'Enter Recipe Name: ')\n",
    "\n",
    "# Assemble the ingredients JSON\n",
    "ingredients = {}\n",
    "\n",
    "while True:\n",
    "    ingredient = input('Enter ingredient: ').strip()\n",
    "    amount = input(f'How much {ingredient}? ').strip()\n",
    "\n",
    "    ingredients[ingredient] = amount\n",
    "\n",
    "    add_another = input('Add another? [y/n]: ').strip().lower()\n",
    "    if add_another == 'n':\n",
    "        break\n",
    "\n",
    "# Type in the instructions\n",
    "instructions = \"\"\"Test\"\"\"\n",
    "\n",
    "# Set the portions\n",
    "portions = input(f'What is the serving size? ')\n",
    "\n",
    "recipe = alchemy.Recipe(\n",
    "    recipe_name = recipe_name,\n",
    "    ingredients = ingredients,\n",
    "    instructions = instructions,\n",
    "    portions = portions\n",
    ")\n",
    "\n",
    "# Add Meal to Database and close\n",
    "session = Session()\n",
    "\n",
    "try:\n",
    "    session.add(recipe)\n",
    "    session.commit()\n",
    "    print('Recipe added successfully!')\n",
    "\n",
    "except Exception as e:\n",
    "    session.rollback()\n",
    "    print(f\"Error adding recipe: {e}\")\n",
    "\n",
    "finally:\n",
    "    session.close()"
   ]
  },
  {
   "cell_type": "markdown",
   "metadata": {},
   "source": [
    "### Enter Nutrition Information"
   ]
  },
  {
   "cell_type": "code",
   "execution_count": null,
   "metadata": {},
   "outputs": [],
   "source": []
  }
 ],
 "metadata": {
  "kernelspec": {
   "display_name": "dev",
   "language": "python",
   "name": "python3"
  },
  "language_info": {
   "codemirror_mode": {
    "name": "ipython",
    "version": 3
   },
   "file_extension": ".py",
   "mimetype": "text/x-python",
   "name": "python",
   "nbconvert_exporter": "python",
   "pygments_lexer": "ipython3",
   "version": "3.11.11"
  }
 },
 "nbformat": 4,
 "nbformat_minor": 2
}
