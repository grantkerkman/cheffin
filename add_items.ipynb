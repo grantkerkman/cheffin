{
 "cells": [
  {
   "cell_type": "code",
   "execution_count": 3,
   "metadata": {},
   "outputs": [],
   "source": [
    "from sqlalchemy import create_engine\n",
    "from sqlalchemy.orm import sessionmaker\n",
    "import sqlalchemy_classes as alchemy"
   ]
  },
  {
   "cell_type": "markdown",
   "metadata": {},
   "source": [
    "### Add a Meal"
   ]
  },
  {
   "cell_type": "code",
   "execution_count": 4,
   "metadata": {},
   "outputs": [],
   "source": [
    "# Enter a recipe\n",
    "recipe_name = \"Basic Bread\"\n",
    "recipe_description = \"Basic ass bread.\"\n",
    "category = \"Baked Goods\"\n",
    "region = \"Western Europe\"\n",
    "vegetarian = True\n",
    "ingredients = {\n",
    "    \"flour\": \"3.5 cups\",\n",
    "    \"salt\": \"1.5 teaspoons\",\n",
    "    \"yeast\": \"2.25 teaspoons\",\n",
    "    \"water\": \"1.25 cups\",\n",
    "    \"honey\": \"1 tablespoon\",\n",
    "    \"olive oil\": \"1 tablespoon\"\n",
    "}\n",
    "\n",
    "instructions = \"\"\"\n",
    "# Instructions\n",
    "\n",
    "## 1. Activate the yeast\n",
    "In a small bowl, mix warm water (~ 110 deg F) and sugar/honey, then sprinkle the yeast over it. Let it sit for about 5-10 minutes until foamy. If it doesn’t foam, your yeast might be dead—start over with fresh yeast.\n",
    "\n",
    "## 2. Mix the dough\n",
    "In a large bowl, combine flour and salt. Add the yeast mixture and oil/butter (if using). Stir until it forms a shaggy dough.\n",
    "\n",
    "## 3. Knead\n",
    "Dump the dough onto a floured surface and knead for 8-10 minutes until smooth and elastic. If the dough is too sticky, add a little more flour, but don’t overdo it.\n",
    "\n",
    "## 4. First rise\n",
    "Place the dough in a greased bowl, cover with a damp towel or plastic wrap, and let it rise in a warm place for 1-2 hours until doubled in size.\n",
    "\n",
    "## 5. Shape\n",
    "Punch down the dough, shape it into a loaf, and place it in a greased loaf pan (or shape it into a round and place it on a baking sheet).\n",
    "\n",
    "## 6. Second rise\n",
    "Cover and let it rise again for about 30-45 minutes.\n",
    "\n",
    "## 7. Bake\n",
    "Preheat the oven to 375°F (190°C). Bake for 30-35 minutes until golden brown. The bread should sound hollow when tapped on the bottom.\n",
    "\n",
    "## 8. Cool\n",
    "Let it cool for at least 15 minutes before slicing, or you’ll squish it.\n",
    "\"\"\"\n",
    "portions = 1"
   ]
  },
  {
   "cell_type": "code",
   "execution_count": 5,
   "metadata": {},
   "outputs": [
    {
     "name": "stdout",
     "output_type": "stream",
     "text": [
      "Meal added successfully!\n"
     ]
    }
   ],
   "source": [
    "# Create the engine and Session objects\n",
    "engine = create_engine(alchemy.DATABASE_URL)\n",
    "Session = sessionmaker(bind=engine)\n",
    "session = Session()\n",
    "\n",
    "# Load the meal\n",
    "meal = alchemy.Meal(\n",
    "    recipe_name = recipe_name,\n",
    "    recipe_description = recipe_description,\n",
    "    category = category,\n",
    "    vegetarian = vegetarian,\n",
    "    region = region,\n",
    "    ingredients = ingredients,\n",
    "    instructions = instructions,\n",
    "    portions = portions\n",
    ")\n",
    "\n",
    "# Add Meal to Database and close\n",
    "try:\n",
    "    session.add(meal)\n",
    "    session.commit()\n",
    "    print('Meal added successfully!')\n",
    "\n",
    "except Exception as e:\n",
    "    session.rollback()\n",
    "    print(f\"Error adding meal: {e}\")\n",
    "\n",
    "finally:\n",
    "    session.close()"
   ]
  },
  {
   "cell_type": "code",
   "execution_count": null,
   "metadata": {},
   "outputs": [],
   "source": []
  }
 ],
 "metadata": {
  "kernelspec": {
   "display_name": "dev",
   "language": "python",
   "name": "python3"
  },
  "language_info": {
   "codemirror_mode": {
    "name": "ipython",
    "version": 3
   },
   "file_extension": ".py",
   "mimetype": "text/x-python",
   "name": "python",
   "nbconvert_exporter": "python",
   "pygments_lexer": "ipython3",
   "version": "3.11.11"
  }
 },
 "nbformat": 4,
 "nbformat_minor": 2
}
